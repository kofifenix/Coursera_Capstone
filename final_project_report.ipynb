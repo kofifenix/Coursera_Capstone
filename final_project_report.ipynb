{
 "cells": [
  {
   "cell_type": "markdown",
   "metadata": {},
   "source": [
    "<h1>Capstone Project Report</h1>"
   ]
  },
  {
   "cell_type": "markdown",
   "metadata": {},
   "source": [
    "<h3>Table of Content</h3>"
   ]
  },
  {
   "cell_type": "markdown",
   "metadata": {},
   "source": [
    "<ol>\n",
    "    <li>Introduction</li>\n",
    "    <li>Data</li>\n",
    "    <li>Methodology</li>\n",
    "    <li>Results</li>\n",
    "    <li>Discussions</li>\n",
    "    <li>Conclusion</li>\n",
    "</ol>"
   ]
  },
  {
   "cell_type": "markdown",
   "metadata": {},
   "source": [
    "<h3>Introduction</h3>"
   ]
  },
  {
   "cell_type": "markdown",
   "metadata": {},
   "source": [
    "<p>Many people have an idea for a business. One of the questions most people ask themselves when pursuing or thinking about a business venture is, \"What location would be best for my business?\" They want to know how many other businesses of this kind are in the area? And who are the bignames present there? </p>\n",
    "<p>I will seek to generate a map showing the clustering of restaurants in the city of New York. This would be beneficial for people seeking to open a restaurant in NYC. It can serve as the bases for assessing other business types as well.</p>"
   ]
  },
  {
   "cell_type": "markdown",
   "metadata": {},
   "source": [
    "<h3>Data</h3>"
   ]
  },
  {
   "cell_type": "markdown",
   "metadata": {},
   "source": [
    "<p>To solve the problem stated above, I will need information on restaurants in New York City. This information includes names and location. I can get all this through the Foursquare API and a data set </p>"
   ]
  },
  {
   "cell_type": "markdown",
   "metadata": {},
   "source": [
    "<h3>Methodology</h3>"
   ]
  },
  {
   "cell_type": "markdown",
   "metadata": {},
   "source": [
    "<p>To begin, I will gather my location data. I have this stored in a JSON file. The file is opened and the data is extracted. Once all the data is loaded in to the notebook, a preliminary exploration is done to get familiar with the data set. Next, the data is cleaned, rearranged and formatted so it's suitable for the algorithms that will be used on the project. The wrangled data is placed in a dataframe showing the names of the neighbourhoods, the boroughs and the . A few more functions are applied to the data to get a sense of what it looks like after cleaning. It is then normalized and preprocessed. The next step involves loading the cordinates of all the boroughs and neighbourhoods in the dataframe and appending them to the dataframe.</p>\n",
    "\n",
    "<p>Now, we will plot our map of New York using the Folium library. This first map will show the distribution of the neighbourhood clusters of each borough. This will give us a very good sense of the spread of the locations.</p>\n",
    "\n",
    "<p>Exploring the neighbourhoods is the next thing to do after getting all our location data into the dataframe. For the purposes of building this model, we will use Manhattan has our stady area. So we will loop through and get all the venues in the area. To do this we will use the Foursquare API to gatehr all venues in the MAnhattan area and group them into categories. Once we get all the venues, we will aggregate the categories and form our clusters. Once we have from our aggregation and clustering,  we will see just how 'concentrated' a particular venue type is within the Manhattan area. We will also proceed to plot the clusters on the map to have a visual representation of the distribution of venues.</p>"
   ]
  },
  {
   "cell_type": "markdown",
   "metadata": {},
   "source": [
    "<h3>Results</h3>"
   ]
  },
  {
   "cell_type": "markdown",
   "metadata": {},
   "source": [
    "<p>From the agrregaitona nd clustering, we can see that restaurants and food places are generally not very concentrated in the Manhattan area. Some of the values show 0.3 and 0.1. These indicate that generally, less thna half of the venues in the neighbourhoods are restaurants.</p>"
   ]
  },
  {
   "cell_type": "markdown",
   "metadata": {},
   "source": [
    "<h3>Discussions</h3>"
   ]
  },
  {
   "cell_type": "markdown",
   "metadata": {},
   "source": [
    "<p>From the values of the model, I would say that there is a low equal distribution of restaurants across Manhattan. This means that Manhattan is not saturated with food places. You can therefore set up a restaurants in any of the neighbourhoods without have to fight through the crowd. However, I would suggest some further fact finding to find out if there maybe some unseen reason for the generally low number of restuarants. This may include low population, lifestyle of the locals or tax laws.</p>\n",
    "\n",
    "<p>This same model can be applies to other venue categories to check the aggregation and clustering and inform on the saturation of such venues in a given area.</p>"
   ]
  },
  {
   "cell_type": "markdown",
   "metadata": {},
   "source": [
    "<h3>Conclusion</h3>"
   ]
  },
  {
   "cell_type": "markdown",
   "metadata": {},
   "source": [
    "<p>In conclusion, you can adequately determine how saturated a given area is with a particular type of venue. This can inform a decision of selecting a location to set up a business.</p>"
   ]
  },
  {
   "cell_type": "code",
   "execution_count": null,
   "metadata": {},
   "outputs": [],
   "source": []
  }
 ],
 "metadata": {
  "kernelspec": {
   "display_name": "Python 3",
   "language": "python",
   "name": "python3"
  },
  "language_info": {
   "codemirror_mode": {
    "name": "ipython",
    "version": 3
   },
   "file_extension": ".py",
   "mimetype": "text/x-python",
   "name": "python",
   "nbconvert_exporter": "python",
   "pygments_lexer": "ipython3",
   "version": "3.6.5"
  }
 },
 "nbformat": 4,
 "nbformat_minor": 2
}
