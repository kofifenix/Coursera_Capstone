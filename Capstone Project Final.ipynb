{
 "cells": [
  {
   "cell_type": "markdown",
   "metadata": {},
   "source": [
    "<h1>Capstone Project Report</h1>"
   ]
  },
  {
   "cell_type": "markdown",
   "metadata": {},
   "source": [
    "<h3>Introduction</h3>"
   ]
  },
  {
   "cell_type": "markdown",
   "metadata": {},
   "source": [
    "<p>Many people have an idea for a business. One of the questions most people ask themselves when pursuing or thinking about a business venture is, \"What location would be best for my business?\" They want to know how many other businesses of this kind are in the area? And who are the bignames present there? </p>\n",
    "<p>I will seek to generate a map showing the clustering of restaurants in the city of New York. This would be beneficial for people seeking to open a restaurant in NYC. It can serve as the bases for assessing other business types as well.</p>"
   ]
  },
  {
   "cell_type": "markdown",
   "metadata": {},
   "source": [
    "<h3>Data</h3>"
   ]
  },
  {
   "cell_type": "markdown",
   "metadata": {},
   "source": [
    "<p>To solve the problem stated above, I will need information on restaurants in New York City. This information includes names, geographic location, address and proximity to other restaurants. I can get all this through the Foursquare API and an external data set of neighbourhoods in New York.</p>"
   ]
  },
  {
   "cell_type": "code",
   "execution_count": null,
   "metadata": {},
   "outputs": [],
   "source": []
  }
 ],
 "metadata": {
  "kernelspec": {
   "display_name": "Python 3",
   "language": "python",
   "name": "python3"
  },
  "language_info": {
   "codemirror_mode": {
    "name": "ipython",
    "version": 3
   },
   "file_extension": ".py",
   "mimetype": "text/x-python",
   "name": "python",
   "nbconvert_exporter": "python",
   "pygments_lexer": "ipython3",
   "version": "3.6.5"
  }
 },
 "nbformat": 4,
 "nbformat_minor": 2
}
